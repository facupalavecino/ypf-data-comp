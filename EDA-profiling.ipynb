{
 "cells": [
  {
   "cell_type": "code",
   "execution_count": null,
   "metadata": {},
   "outputs": [],
   "source": [
    "import pandas as pd\n",
    "from pathlib import Path\n",
    "\n",
    "DATA_DIR = Path(\"data/\").resolve()"
   ]
  },
  {
   "cell_type": "code",
   "execution_count": null,
   "metadata": {},
   "outputs": [],
   "source": [
    "training_set = pd.read_csv(DATA_DIR / \"training_set.csv\", delimiter=\",\")\n",
    "\n",
    "# Fix outliers. Looks like an error in data entry\n",
    "\n",
    "training_set.loc[training_set.D3D > 10000, \"D3D\"] = training_set.D3D / 1000\n",
    "training_set.loc[training_set.D2D > 10000, \"D2D\"] = training_set.D2D / 1000\n",
    "training_set.loc[training_set.AZ > 1000, \"AZ\"] = training_set.AZ / 1000"
   ]
  },
  {
   "cell_type": "code",
   "execution_count": null,
   "metadata": {},
   "outputs": [],
   "source": [
    "from pandas_profiling import ProfileReport\n",
    "\n",
    "profile = ProfileReport(training_set)\n",
    "\n",
    "profile"
   ]
  }
 ],
 "metadata": {
  "language_info": {
   "name": "python"
  },
  "orig_nbformat": 4
 },
 "nbformat": 4,
 "nbformat_minor": 2
}
